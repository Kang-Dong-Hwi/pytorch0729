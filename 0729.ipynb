{
  "nbformat": 4,
  "nbformat_minor": 0,
  "metadata": {
    "colab": {
      "name": "0729.ipynb",
      "provenance": [],
      "collapsed_sections": []
    },
    "kernelspec": {
      "name": "python3",
      "display_name": "Python 3"
    },
    "accelerator": "GPU"
  },
  "cells": [
    {
      "cell_type": "code",
      "metadata": {
        "id": "MHmOGgkUv80Y",
        "colab_type": "code",
        "colab": {
          "base_uri": "https://localhost:8080/",
          "height": 73
        },
        "outputId": "1dd17d26-2de8-478e-8fa7-40815d59f218"
      },
      "source": [
        "import torch\n",
        "import random\n",
        "import numpy as np\n",
        "import matplotlib.pyplot as plt\n",
        "from torch.utils.data import Dataset, DataLoader, TensorDataset\n",
        "\n",
        "from sklearn.metrics import confusion_matrix\n",
        "from mlxtend.plotting import plot_confusion_matrix\n",
        "\n",
        "from google.colab import auth\n",
        "from google.colab import drive\n",
        "auth.authenticate_user()\n",
        "drive.mount('/content/gdrive')\n",
        "\n",
        "PATH = '/content/gdrive/My Drive/dataset/'\n",
        "\n",
        "\n",
        "\n",
        "''''''\n",
        "BATCH_SIZE = 20\n",
        "EPOCHS = 100\n",
        "NUM = 2904\n",
        "lr = 2*10e-5\n",
        "''''''"
      ],
      "execution_count": 1,
      "outputs": [
        {
          "output_type": "stream",
          "text": [
            "Drive already mounted at /content/gdrive; to attempt to forcibly remount, call drive.mount(\"/content/gdrive\", force_remount=True).\n"
          ],
          "name": "stdout"
        },
        {
          "output_type": "execute_result",
          "data": {
            "application/vnd.google.colaboratory.intrinsic+json": {
              "type": "string"
            },
            "text/plain": [
              "''"
            ]
          },
          "metadata": {
            "tags": []
          },
          "execution_count": 1
        }
      ]
    },
    {
      "cell_type": "code",
      "metadata": {
        "id": "XhYtCWCXxznF",
        "colab_type": "code",
        "colab": {}
      },
      "source": [
        "\n",
        "\n",
        "def dB( magnitude ):\n",
        "    return 20*np.log10( np.abs(magnitude) + np.finfo(np.float32).eps )\n",
        "    \n",
        "\n",
        "\n",
        "\n",
        "def Mag_normalization( L, R ):\n",
        "\n",
        "    Mag = np.asarray( [ L, R ] )\n",
        "    mu = np.mean( Mag )\n",
        "    sigma = np.std( Mag )\n",
        "    z = ( Mag - mu ) / sigma\n",
        "    return z[0], z[1]\n",
        "\n",
        "\n",
        "\n",
        "\n",
        "    # samples = np.concatenate((L,R), axis=0)\n",
        "    # mu = np.mean( samples )\n",
        "    # sigma = np.std( samples )\n",
        "\n",
        "    # z = (samples-mu) / sigma\n",
        "    # z = z.reshape(2, L.shape[0], L.shape[1])\n",
        "    \n",
        "    # return z[0], z[1]\n",
        "\n",
        "\n",
        "\n",
        "\n",
        "\n",
        "def Phase_normalization( phase ):\n",
        "    mu = np.mean( phase )\n",
        "    sigma = np.std( phase )\n",
        "    \n",
        "    z = ( phase - mu ) / sigma\n",
        "    return z\n",
        "\n"
      ],
      "execution_count": 2,
      "outputs": []
    },
    {
      "cell_type": "code",
      "metadata": {
        "id": "Q306JJBdwVcZ",
        "colab_type": "code",
        "colab": {}
      },
      "source": [
        "\n",
        "def angle_to_digit( y_data ):\n",
        "    \n",
        "    for idx in range(y_data.shape[0]):\n",
        "        \n",
        "        y = y_data[idx]\n",
        "        if y<0: y_data[idx] = 10\n",
        "        else:   y_data[idx] = ( y//20 )\n",
        "    \n",
        "    return y_data\n"
      ],
      "execution_count": 3,
      "outputs": []
    },
    {
      "cell_type": "code",
      "metadata": {
        "id": "Ypxi82M5xsoS",
        "colab_type": "code",
        "colab": {
          "base_uri": "https://localhost:8080/",
          "height": 89
        },
        "outputId": "79b9a0e8-32c1-47c4-84df-7221d2dc0b76"
      },
      "source": [
        "\n",
        "\n",
        "x_data = ['S_left.npy', 'S_right.npy', 'S_left_phase.npy','S_right_phase.npy']\n",
        "y_data = np.load(PATH+ 'angle.npy')\n",
        "\n",
        "\n",
        "S_left  = np.load( PATH + x_data[0] )\n",
        "S_right = np.load( PATH + x_data[1] )\n",
        "S_left_phase  = np.load( PATH + x_data[2] )\n",
        "S_right_phase = np.load( PATH + x_data[3] )\n",
        "\n",
        "    "
      ],
      "execution_count": 4,
      "outputs": [
        {
          "output_type": "stream",
          "text": [
            "S_left\n",
            "S_right\n",
            "S_left_phase\n",
            "S_right_phase\n"
          ],
          "name": "stdout"
        }
      ]
    },
    {
      "cell_type": "code",
      "metadata": {
        "id": "42baZXni3dZm",
        "colab_type": "code",
        "colab": {}
      },
      "source": [
        "\n",
        "\n",
        "x_data = []\n",
        "\n",
        "for idx in range( y_data.shape[0] ):\n",
        "    \n",
        "    x_element = []\n",
        "    \n",
        "    mag_L = S_left[:,:,idx]\n",
        "    mag_R = S_right[:,:,idx]\n",
        "    phi_L = S_left_phase[:,:,idx]\n",
        "    phi_R = S_right_phase[:,:,idx]\n",
        "\n",
        "\n",
        "\n",
        "    # \"\"\"log scale 변환X, 정규화X\"\"\"\n",
        "    # x_element.append( log_L )\n",
        "    # x_element.append( log_R )\n",
        "    # x_element.append( phi_L )\n",
        "    # x_element.append( phi_R )\n",
        "\n",
        "\n",
        "\n",
        "    \"\"\"log[dB] scale\"\"\"\n",
        "    log_L = dB( mag_L )\n",
        "    log_R = dB( mag_R )\n",
        "\n",
        "\n",
        "    \"\"\"정규화\"\"\"\n",
        "    #x_left, x_right = Mag_normalization( log_L, log_R )   # log[dB] scale변환 후 정규화\n",
        "    x_left, x_right = Mag_normalization( mag_L , mag_R )  # log[dB] scale변환 하지 않고 정규화\n",
        "    x_left_phase    = Phase_normalization( phi_L )\n",
        "    x_right_phase   = Phase_normalization( phi_R )\n",
        "\n",
        "\n",
        "    x_element.append( x_left )\n",
        "    x_element.append( x_right )\n",
        "    x_element.append( x_left_phase )\n",
        "    x_element.append( x_right_phase )\n",
        "    \n",
        "\n",
        "\n",
        "    x_data.append( np.asarray(x_element) )\n",
        "\n",
        "x_data = np.asarray(x_data)\n",
        "y_data = angle_to_digit(y_data)\n",
        "\n"
      ],
      "execution_count": 5,
      "outputs": []
    },
    {
      "cell_type": "code",
      "metadata": {
        "id": "STLMXno0xzI3",
        "colab_type": "code",
        "colab": {}
      },
      "source": [
        "\n",
        "\n",
        "train_size = 800\n",
        "valid_size = 200\n",
        "\n",
        "x_data = torch.from_numpy( x_data ).float().to('cuda')\n",
        "y_data = torch.from_numpy( y_data ).long().to('cuda').reshape(1000,)\n",
        "\n",
        "full_dataset = TensorDataset( x_data, y_data )\n",
        "\n",
        "\n",
        "train_data, valid_data = torch.utils.data.random_split( full_dataset, [train_size, valid_size] )\n",
        "train_dataset = DataLoader( dataset=train_data, batch_size = BATCH_SIZE, shuffle=True, drop_last=True )\n",
        "valid_dataset = DataLoader( dataset=valid_data, batch_size = BATCH_SIZE, shuffle=True, drop_last=True)\n",
        "\n"
      ],
      "execution_count": 6,
      "outputs": []
    },
    {
      "cell_type": "code",
      "metadata": {
        "id": "ipr-swIE7Qz2",
        "colab_type": "code",
        "colab": {}
      },
      "source": [
        "import re\n",
        "import torch.nn as nn\n",
        "import torch.nn.functional as F\n",
        "\n",
        "\n",
        "\n",
        "class CNN (nn.Module):\n",
        "    def __init__(self):\n",
        "        super(CNN, self).__init__()\n",
        "\n",
        "        ''' 4 * 257 * 382'''\n",
        "        self.conv1 = nn.Conv2d( in_channels=  4, out_channels= 64, kernel_size = (7,7), stride = (2,2) )\n",
        "        #relu\n",
        "        #pooling\n",
        "        \n",
        "        ''' 64 * 62 * 94'''\n",
        "        self.conv2 = nn.Conv2d( in_channels= 64, out_channels= 64, kernel_size = (3,3) )\n",
        "        #relu\n",
        "        #pooling\n",
        "\n",
        "        ''' 64 * 30 * 46'''\n",
        "        self.conv3 = nn.Conv2d( in_channels= 64, out_channels= 32, kernel_size = (3,3) )\n",
        "        #relu\n",
        "        #pooling\n",
        "\n",
        "        ''' 32 * 14 * 22'''\n",
        "        #flatten\n",
        "\n",
        "        self.lay1  = nn.Linear( 32*14*22, 256)\n",
        "        self.lay2  = nn.Linear( 256, 256 )\n",
        "        self.lay3  = nn.Linear( 256, 64 )\n",
        "        self.lay4  = nn.Linear( 64 , 11 )\n",
        "        \n",
        "\n",
        "\n",
        "        \n",
        "    def forward(self, output):\n",
        "        output = F.max_pool2d( F.relu( self.conv1(output) ),2 )\n",
        "        output = F.max_pool2d( F.relu( self.conv2(output) ),2 )\n",
        "        output = F.max_pool2d( F.relu( self.conv3(output) ),2 )\n",
        "        \n",
        "        output = output.view(-1, 32*14*22)\n",
        "        \n",
        "        output = F.relu( self.lay1(output) )\n",
        "        output = F.dropout(output, training=self.training)\n",
        "        output = F.relu( self.lay2(output) )\n",
        "        output = F.dropout(output, training=self.training)\n",
        "        output = F.relu( self.lay3(output) )\n",
        "        output = F.dropout(output, training=self.training)\n",
        "        output = F.log_softmax(self.lay4(output), dim=1)\n",
        "        \n",
        "        return output\n",
        "    "
      ],
      "execution_count": 7,
      "outputs": []
    },
    {
      "cell_type": "code",
      "metadata": {
        "id": "9OIM5rai8s5L",
        "colab_type": "code",
        "colab": {
          "base_uri": "https://localhost:8080/",
          "height": 179
        },
        "outputId": "63f6bc50-173a-4629-a8fc-c2f149c242f3"
      },
      "source": [
        "\n",
        "model = CNN().to('cuda')\n",
        "model\n"
      ],
      "execution_count": 8,
      "outputs": [
        {
          "output_type": "execute_result",
          "data": {
            "text/plain": [
              "CNN(\n",
              "  (conv1): Conv2d(4, 64, kernel_size=(7, 7), stride=(2, 2))\n",
              "  (conv2): Conv2d(64, 64, kernel_size=(3, 3), stride=(1, 1))\n",
              "  (conv3): Conv2d(64, 32, kernel_size=(3, 3), stride=(1, 1))\n",
              "  (lay1): Linear(in_features=9856, out_features=256, bias=True)\n",
              "  (lay2): Linear(in_features=256, out_features=256, bias=True)\n",
              "  (lay3): Linear(in_features=256, out_features=64, bias=True)\n",
              "  (lay4): Linear(in_features=64, out_features=11, bias=True)\n",
              ")"
            ]
          },
          "metadata": {
            "tags": []
          },
          "execution_count": 8
        }
      ]
    },
    {
      "cell_type": "code",
      "metadata": {
        "id": "zUn2GCzH8673",
        "colab_type": "code",
        "colab": {
          "base_uri": "https://localhost:8080/",
          "height": 197
        },
        "outputId": "2d5c93d7-e1a2-47f7-a34e-a9a0a60554cd"
      },
      "source": [
        "\n",
        "\n",
        "torch.manual_seed(100)\n",
        "criterion = nn.CrossEntropyLoss().to('cuda')\n",
        "\n",
        "\n",
        "'''optimizer'''\n",
        "\n",
        "#optimizer = torch.optim.Adagrad(model.parameters(), lr=lr, weight_decay=0.9)\n",
        "#TITLE = 'Adagrad (weight_decay=0.9)'\n",
        "\n",
        "optimizer = torch.optim.Adam(model.parameters(), lr=lr)\n",
        "TITLE = 'Adam'\n",
        "\n",
        "#optimizer = torch.optim.SGD(model.parameters(), lr=lr, momentum=0.9)\n",
        "#TITLE = 'SGD (momentum=0.9)'\n",
        "\n",
        "\n",
        "\n",
        "\n",
        "train_loss = []\n",
        "train_acc  = []\n",
        "\n",
        "\n",
        "# confusion matrix를 만들기 위해서 \n",
        "# 먼저 int type의 random값이 있는 \n",
        "# (1,) size torch tensor 초기화\n",
        "torch_pred  = torch.empty((1,), dtype=torch.int32).to('cuda')\n",
        "torch_label = torch.empty((1,), dtype=torch.int32).to('cuda')\n",
        "\n",
        "\n",
        "\n",
        "model.train()\n",
        "for epoch in range(EPOCHS):\n",
        "    #print('epoch ' + str(epoch+1))\n",
        "    total_loss = 0.0\n",
        "    total_acc = 0\n",
        "    \n",
        "    \n",
        "    for i, (data, label) in enumerate(train_dataset):\n",
        "        (data, label) = (data.to('cuda'), label.to('cuda'))\n",
        "\n",
        "        #zero the parameter gradients\n",
        "        optimizer.zero_grad()        \n",
        "\n",
        "        # forward + backward = optimize\n",
        "        output = model(data)\n",
        "        loss = criterion(output, label)\n",
        "        loss.backward()\n",
        "        optimizer.step()\n",
        "        \n",
        "\n",
        "        \"\"\"loss, accuracy\"\"\"\n",
        "        # batch 정확도\n",
        "        preds  = torch.max(output.data, 1)[1]\n",
        "        corr  = (preds==label).sum().item()\n",
        "        acc   = corr/BATCH_SIZE*100\n",
        "\n",
        "        # epoch 손실도, 정확도\n",
        "        total_loss += loss.item()\n",
        "        total_acc += corr\n",
        "    \n",
        "        # batch 손실도, 정확도 출력, 저장\n",
        "        #train_loss.append(loss)\n",
        "        #train_acc.append(acc)\n",
        "\n",
        "\n",
        "        \"\"\" confusion matrix\"\"\"\n",
        "        # 마지막 epoch에서 \n",
        "        if epoch == EPOCHS-1:\n",
        "            torch_pred  = torch.cat( [ torch_pred , preds.to( 'cuda', dtype=torch.int32) ], dim=0 )\n",
        "            torch_label = torch.cat( [ torch_label, label.to( 'cuda', dtype=torch.int32) ], dim=0 )\n",
        "\n",
        "\n",
        "    train_loss.append(loss)\n",
        "    train_acc.append(acc)\n",
        "\n",
        "    # epoch 손실도, 정확도 출력\n",
        "    if (epoch) % 10 == 9:  print('epoch' + str(epoch+1) + '  >> Loss: {:.3f} \\tAcc: {:.3f}'.format( total_loss, total_acc/800*100 ))\n",
        "    #print()\n"
      ],
      "execution_count": 9,
      "outputs": [
        {
          "output_type": "stream",
          "text": [
            "epoch10  >> Loss: 92.678 \tAcc: 11.500\n",
            "epoch20  >> Loss: 73.756 \tAcc: 23.625\n",
            "epoch30  >> Loss: 58.291 \tAcc: 38.875\n",
            "epoch40  >> Loss: 41.873 \tAcc: 56.750\n",
            "epoch50  >> Loss: 32.091 \tAcc: 68.750\n",
            "epoch60  >> Loss: 21.223 \tAcc: 80.750\n",
            "epoch70  >> Loss: 17.077 \tAcc: 83.750\n",
            "epoch80  >> Loss: 14.119 \tAcc: 88.625\n",
            "epoch90  >> Loss: 10.565 \tAcc: 90.250\n",
            "epoch100  >> Loss: 9.946 \tAcc: 92.625\n"
          ],
          "name": "stdout"
        }
      ]
    },
    {
      "cell_type": "code",
      "metadata": {
        "id": "DCfgcaM-90-j",
        "colab_type": "code",
        "colab": {
          "base_uri": "https://localhost:8080/",
          "height": 309
        },
        "outputId": "8b244c5e-c924-47fe-b80a-1a90779ed993"
      },
      "source": [
        "\n",
        "%matplotlib inline\n",
        "fig, loss_ax = plt.subplots()\n",
        "acc_ax = loss_ax.twinx()\n",
        "\n",
        "loss_ax.plot(np.asarray(train_loss), 'y')\n",
        "acc_ax.plot( np.asarray(train_acc),  'b')\n",
        "\n",
        "loss_ax.set_xlabel('epoch')\n",
        "loss_ax.set_ylabel('loss')\n",
        "loss_ax.set_ylim([0, 3])\n",
        "\n",
        "acc_ax.set_ylabel('accuracy')\n",
        "acc_ax.set_ylim([0, 100])\n",
        "\n",
        "\n",
        "fig.legend(['loss','acc'], loc='upper right')\n",
        "plt.title('optimizer: '+TITLE)\n",
        "plt.savefig(PATH+TITLE+str(NUM)+'.png')\n",
        "plt.show()"
      ],
      "execution_count": 10,
      "outputs": [
        {
          "output_type": "display_data",
          "data": {
            "image/png": "[encoded data removed]",
            "text/plain": [
              "<Figure size 432x288 with 2 Axes>"
            ]
          },
          "metadata": {
            "tags": [],
            "needs_background": "light"
          }
        }
      ]
    },
    {
      "cell_type": "code",
      "metadata": {
        "id": "qMY2cnKD95Ha",
        "colab_type": "code",
        "colab": {
          "base_uri": "https://localhost:8080/",
          "height": 429
        },
        "outputId": "ed219cea-330e-4c20-c1e6-e9fe62be9880"
      },
      "source": [
        " \n",
        "# confusion matrix\n",
        "# int type의 random한 값을 제외한 값들로 confusion matrix 만듦\n",
        "stacked = torch.stack( ( torch_label[1:], torch_pred[1:] ), dim=1 )\n",
        "\n",
        "\n",
        "cmt = torch.zeros(11,11, dtype=torch.int32)\n",
        "\n",
        "for p in stacked:\n",
        "    tl, pl = p.tolist()\n",
        "    cmt[tl, pl] += 1\n",
        "\n",
        "\n",
        "\n",
        "#axis = ['80\\u00b0','60\\u00b0','40\\u00b0','20\\u00b0','0\\u00b0','X','180\\u00b0','160\\u00b0','140\\u00b0','120\\u00b0','100\\u00b0']\n",
        "axis = ['0\\u00b0','20\\u00b0','40\\u00b0','60\\u00b0','80\\u00b0','100\\u00b0','120\\u00b0','140\\u00b0','160\\u00b0','180\\u00b0','X']\n",
        "\n",
        "\n",
        "plot_confusion_matrix(cmt.numpy())\n",
        "\n",
        "\n",
        "plt.title('train_dataset_confusion_matrix')\n",
        "\n",
        "plt.xticks(np.arange(11), axis)\n",
        "plt.yticks(np.arange(11), axis)\n",
        "plt.gcf().set_size_inches(6,7,forward=True)\n",
        "\n",
        "plt.savefig( PATH + 'train_dataset_confusion_matrix' + str(NUM) + '.png' )\n",
        "plt.show()\n",
        "\n"
      ],
      "execution_count": 11,
      "outputs": [
        {
          "output_type": "display_data",
          "data": {
            "image/png": "[encoded data removed]",
            "text/plain": [
              "<Figure size 432x504 with 1 Axes>"
            ]
          },
          "metadata": {
            "tags": [],
            "needs_background": "light"
          }
        }
      ]
    },
    {
      "cell_type": "code",
      "metadata": {
        "id": "n-0of8oK-MOh",
        "colab_type": "code",
        "colab": {
          "base_uri": "https://localhost:8080/",
          "height": 35
        },
        "outputId": "fa2a2636-445f-4b83-da79-9f408a3529f5"
      },
      "source": [
        "model.eval().to('cuda')\n",
        "\n",
        "\n",
        "\n",
        "with torch.no_grad():\n",
        "    correct = 0\n",
        "    total = 0\n",
        "\n",
        "    #confusion matrix\n",
        "    torch_pred_valid  = torch.empty((1,), dtype=torch.int32).to('cuda')\n",
        "    torch_label_valid = torch.empty((1,), dtype=torch.int32).to('cuda')\n",
        "\n",
        "    for data, label in valid_dataset:\n",
        "        output = model(data)\n",
        "        preds  = torch.max(output.data, 1)[1]\n",
        "        total += len(label)\n",
        "        correct += (preds==label).sum().item()\n",
        "\n",
        "        #confusion matrix\n",
        "        torch_pred_valid  = torch.cat( [ torch_pred_valid , preds.to( 'cuda', dtype=torch.int32) ], dim=0 )\n",
        "        torch_label_valid = torch.cat( [ torch_label_valid, label.to( 'cuda', dtype=torch.int32) ], dim=0 )\n",
        "\n",
        "\n",
        "    valid_stacked = torch.stack( ( torch_label_valid[1:], torch_pred_valid[1:] ), dim=1 )\n",
        "\n",
        "      \n",
        "    print('Test Accuracy: ', 100.*correct/total)\n",
        "\n"
      ],
      "execution_count": 12,
      "outputs": [
        {
          "output_type": "stream",
          "text": [
            "Test Accuracy:  71.5\n"
          ],
          "name": "stdout"
        }
      ]
    },
    {
      "cell_type": "code",
      "metadata": {
        "id": "Lnhh8Aip-L-e",
        "colab_type": "code",
        "colab": {
          "base_uri": "https://localhost:8080/",
          "height": 429
        },
        "outputId": "b2b5607d-77d2-4582-ec4d-c951bdd827fa"
      },
      "source": [
        "\n",
        "cmt_valid = torch.zeros(11,11, dtype=torch.int32)\n",
        "\n",
        "for p in valid_stacked:\n",
        "    tl, pl = p.tolist()\n",
        "    cmt_valid[tl, pl] += 1\n",
        "\n",
        "\n",
        "\n",
        "plot_confusion_matrix(cmt_valid.numpy())\n",
        "\n",
        "plt.title('validation_dataset_confusion_matrix')\n",
        "plt.xticks(np.arange(11), axis)\n",
        "plt.yticks(np.arange(11), axis)\n",
        "plt.gcf().set_size_inches(6,7,forward=True)\n",
        "\n",
        "\n",
        "plt.savefig( PATH + 'validation_dataset_confusion_matrix' + str(NUM) + '.png' )\n",
        "plt.show()\n"
      ],
      "execution_count": 13,
      "outputs": [
        {
          "output_type": "display_data",
          "data": {
            "image/png": "[encoded data removed]",
            "text/plain": [
              "<Figure size 432x504 with 1 Axes>"
            ]
          },
          "metadata": {
            "tags": [],
            "needs_background": "light"
          }
        }
      ]
    },
    {
      "cell_type": "code",
      "metadata": {
        "id": "aVNtckCvueGd",
        "colab_type": "code",
        "colab": {}
      },
      "source": [
        ""
      ],
      "execution_count": 13,
      "outputs": []
    }
  ]
}